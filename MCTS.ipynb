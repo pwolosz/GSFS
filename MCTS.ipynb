{
 "cells": [
  {
   "cell_type": "code",
   "execution_count": 1,
   "metadata": {},
   "outputs": [],
   "source": [
    "import numpy as np\n",
    "import pandas as pd\n",
    "from graphviz import Digraph\n",
    "from scipy.io import arff\n",
    "import time\n",
    "from sklearn.model_selection import train_test_split\n",
    "from xgboost import XGBClassifier\n",
    "from sklearn.linear_model import LogisticRegression\n",
    "import queue\n",
    "import math"
   ]
  },
  {
   "cell_type": "code",
   "execution_count": 4,
   "metadata": {},
   "outputs": [
    {
     "ename": "FileNotFoundError",
     "evalue": "[Errno 2] No such file or directory: 'D:/Projects/datasets/monks-problem.arff'",
     "output_type": "error",
     "traceback": [
      "\u001b[1;31m---------------------------------------------------------------------------\u001b[0m",
      "\u001b[1;31mFileNotFoundError\u001b[0m                         Traceback (most recent call last)",
      "\u001b[1;32m<ipython-input-4-ad8b827bf933>\u001b[0m in \u001b[0;36m<module>\u001b[1;34m\u001b[0m\n\u001b[1;32m----> 1\u001b[1;33m \u001b[0mdata\u001b[0m \u001b[1;33m=\u001b[0m \u001b[0marff\u001b[0m\u001b[1;33m.\u001b[0m\u001b[0mloadarff\u001b[0m\u001b[1;33m(\u001b[0m\u001b[1;34m'D:/Projects/datasets/monks-problem.arff'\u001b[0m\u001b[1;33m)\u001b[0m\u001b[1;33m\u001b[0m\u001b[0m\n\u001b[0m\u001b[0;32m      2\u001b[0m \u001b[0mdata\u001b[0m \u001b[1;33m=\u001b[0m \u001b[0mpd\u001b[0m\u001b[1;33m.\u001b[0m\u001b[0mDataFrame\u001b[0m\u001b[1;33m(\u001b[0m\u001b[0mdata\u001b[0m\u001b[1;33m[\u001b[0m\u001b[1;36m0\u001b[0m\u001b[1;33m]\u001b[0m\u001b[1;33m)\u001b[0m\u001b[1;33m\u001b[0m\u001b[0m\n\u001b[0;32m      3\u001b[0m \u001b[0mdata_labels\u001b[0m \u001b[1;33m=\u001b[0m \u001b[0mdata\u001b[0m\u001b[1;33m[\u001b[0m\u001b[1;34m'class'\u001b[0m\u001b[1;33m]\u001b[0m\u001b[1;33m\u001b[0m\u001b[0m\n\u001b[0;32m      4\u001b[0m \u001b[0mdata\u001b[0m \u001b[1;33m=\u001b[0m \u001b[0mdata\u001b[0m\u001b[1;33m.\u001b[0m\u001b[0mdrop\u001b[0m\u001b[1;33m(\u001b[0m\u001b[0mcolumns\u001b[0m \u001b[1;33m=\u001b[0m \u001b[1;33m[\u001b[0m\u001b[1;34m'class'\u001b[0m\u001b[1;33m]\u001b[0m\u001b[1;33m)\u001b[0m\u001b[1;33m\u001b[0m\u001b[0m\n\u001b[0;32m      5\u001b[0m \u001b[0mdata_labels\u001b[0m\u001b[1;33m[\u001b[0m\u001b[0mnp\u001b[0m\u001b[1;33m.\u001b[0m\u001b[0marray\u001b[0m\u001b[1;33m(\u001b[0m\u001b[0mlist\u001b[0m\u001b[1;33m(\u001b[0m\u001b[0mmap\u001b[0m\u001b[1;33m(\u001b[0m\u001b[0mint\u001b[0m\u001b[1;33m,\u001b[0m \u001b[0mdata_labels\u001b[0m\u001b[1;33m)\u001b[0m\u001b[1;33m)\u001b[0m\u001b[1;33m)\u001b[0m \u001b[1;33m==\u001b[0m \u001b[0mmin\u001b[0m\u001b[1;33m(\u001b[0m\u001b[0mlist\u001b[0m\u001b[1;33m(\u001b[0m\u001b[0mmap\u001b[0m\u001b[1;33m(\u001b[0m\u001b[0mint\u001b[0m\u001b[1;33m,\u001b[0m\u001b[0mdata_labels\u001b[0m\u001b[1;33m.\u001b[0m\u001b[0munique\u001b[0m\u001b[1;33m(\u001b[0m\u001b[1;33m)\u001b[0m\u001b[1;33m)\u001b[0m\u001b[1;33m)\u001b[0m\u001b[1;33m)\u001b[0m\u001b[1;33m]\u001b[0m \u001b[1;33m=\u001b[0m \u001b[1;34m'0'\u001b[0m\u001b[1;33m\u001b[0m\u001b[0m\n",
      "\u001b[1;32m~\\Anaconda3\\lib\\site-packages\\scipy\\io\\arff\\arffread.py\u001b[0m in \u001b[0;36mloadarff\u001b[1;34m(f)\u001b[0m\n\u001b[0;32m    537\u001b[0m         \u001b[0mofile\u001b[0m \u001b[1;33m=\u001b[0m \u001b[0mf\u001b[0m\u001b[1;33m\u001b[0m\u001b[0m\n\u001b[0;32m    538\u001b[0m     \u001b[1;32melse\u001b[0m\u001b[1;33m:\u001b[0m\u001b[1;33m\u001b[0m\u001b[0m\n\u001b[1;32m--> 539\u001b[1;33m         \u001b[0mofile\u001b[0m \u001b[1;33m=\u001b[0m \u001b[0mopen\u001b[0m\u001b[1;33m(\u001b[0m\u001b[0mf\u001b[0m\u001b[1;33m,\u001b[0m \u001b[1;34m'rt'\u001b[0m\u001b[1;33m)\u001b[0m\u001b[1;33m\u001b[0m\u001b[0m\n\u001b[0m\u001b[0;32m    540\u001b[0m     \u001b[1;32mtry\u001b[0m\u001b[1;33m:\u001b[0m\u001b[1;33m\u001b[0m\u001b[0m\n\u001b[0;32m    541\u001b[0m         \u001b[1;32mreturn\u001b[0m \u001b[0m_loadarff\u001b[0m\u001b[1;33m(\u001b[0m\u001b[0mofile\u001b[0m\u001b[1;33m)\u001b[0m\u001b[1;33m\u001b[0m\u001b[0m\n",
      "\u001b[1;31mFileNotFoundError\u001b[0m: [Errno 2] No such file or directory: 'D:/Projects/datasets/monks-problem.arff'"
     ]
    }
   ],
   "source": [
    "data = arff.loadarff('D:/Projects/datasets/monks-problem.arff')\n",
    "data = pd.DataFrame(data[0])\n",
    "data_labels = data['class']\n",
    "data = data.drop(columns = ['class'])\n",
    "data_labels[np.array(list(map(int, data_labels))) == min(list(map(int,data_labels.unique())))] = '0'\n",
    "data_labels[np.array(list(map(int, data_labels))) == max(list(map(int,data_labels.unique())))] = '1'"
   ]
  },
  {
   "cell_type": "code",
   "execution_count": 5,
   "metadata": {},
   "outputs": [
    {
     "ename": "NameError",
     "evalue": "name 'data' is not defined",
     "output_type": "error",
     "traceback": [
      "\u001b[1;31m---------------------------------------------------------------------------\u001b[0m",
      "\u001b[1;31mNameError\u001b[0m                                 Traceback (most recent call last)",
      "\u001b[1;32m<ipython-input-5-971032285636>\u001b[0m in \u001b[0;36m<module>\u001b[1;34m\u001b[0m\n\u001b[1;32m----> 1\u001b[1;33m \u001b[1;32mfor\u001b[0m \u001b[0mcolumn\u001b[0m \u001b[1;32min\u001b[0m \u001b[0mdata\u001b[0m\u001b[1;33m.\u001b[0m\u001b[0mcolumns\u001b[0m\u001b[1;33m:\u001b[0m\u001b[1;33m\u001b[0m\u001b[0m\n\u001b[0m\u001b[0;32m      2\u001b[0m     \u001b[0mdata\u001b[0m\u001b[1;33m[\u001b[0m\u001b[0mcolumn\u001b[0m\u001b[1;33m]\u001b[0m \u001b[1;33m=\u001b[0m \u001b[0mlist\u001b[0m\u001b[1;33m(\u001b[0m\u001b[0mmap\u001b[0m\u001b[1;33m(\u001b[0m\u001b[0mint\u001b[0m\u001b[1;33m,\u001b[0m\u001b[0mdata\u001b[0m\u001b[1;33m[\u001b[0m\u001b[0mcolumn\u001b[0m\u001b[1;33m]\u001b[0m\u001b[1;33m)\u001b[0m\u001b[1;33m)\u001b[0m\u001b[1;33m\u001b[0m\u001b[0m\n",
      "\u001b[1;31mNameError\u001b[0m: name 'data' is not defined"
     ]
    }
   ],
   "source": [
    "for column in data.columns:\n",
    "    data[column] = list(map(int,data[column]))"
   ]
  },
  {
   "cell_type": "code",
   "execution_count": null,
   "metadata": {},
   "outputs": [],
   "source": [
    "model = XGBClassifier()\n",
    "X_train, X_test, y_train, y_test = train_test_split(data, data_labels, test_size = 0.25)\n",
    "model.fit(X_train, y_train)\n",
    "predicted = model.predict(X_test)\n",
    "acc_score(predicted, y_test)"
   ]
  },
  {
   "cell_type": "code",
   "execution_count": 6,
   "metadata": {},
   "outputs": [],
   "source": [
    "def acc_score(y_predicted, y_labels):\n",
    "    return (y_predicted == y_labels).sum()/len(y_labels)"
   ]
  },
  {
   "cell_type": "code",
   "execution_count": 7,
   "metadata": {},
   "outputs": [],
   "source": [
    "class node:\n",
    "    def __init__(self, node_name):\n",
    "        self.node_name = node_name\n",
    "        self.child_nodes = []\n",
    "        self.T = 0\n",
    "        self.score_sum = 0\n",
    "        \n",
    "    def add_child_node(self, node_name):\n",
    "        new_node = node(node_name)\n",
    "        self.child_nodes.append(new_node)\n",
    "        \n",
    "    def add_child_nodes(self, node_names):\n",
    "        for name in node_names:\n",
    "            self.add_child_node(name)\n",
    "      \n",
    "    def add_score(self, score):\n",
    "        self.score_sum += score\n",
    "        self.T += 1\n",
    "    \n",
    "    def get_score(self):\n",
    "        return float('Inf') if self.T == 0 else self.score_sum/self.T"
   ]
  },
  {
   "cell_type": "code",
   "execution_count": 8,
   "metadata": {},
   "outputs": [],
   "source": [
    "class MCTS_tree:\n",
    "    def __init__(self, score_metric, max_iter = None, max_time = None, verbosity = 1):\n",
    "        self._root = node(\"root\")\n",
    "        self._score_metric = score_metric\n",
    "        self._verbosity = verbosity\n",
    "        self._max_iter = max_iter\n",
    "        self._max_time = max_time\n",
    "        self._model = XGBClassifier()\n",
    "        self._best_score = 0\n",
    "        self._current_best_variables = []\n",
    "        \n",
    "    def _node_score(self, node, parent_node):\n",
    "        return node.get_score() + 0 if node.T == 0 else math.sqrt(2*math.log(parent_node.T)/node.T)\n",
    "    \n",
    "    def _calculate_score(self, feature_names):\n",
    "        print('Calcualting for ' + ' '.join(feature_names))\n",
    "        X_train, X_test, y_train, y_test = train_test_split(self._data.loc[:, feature_names], self._labels, test_size = 0.25)\n",
    "        self._model.fit(X_train, y_train)\n",
    "        predicted = self._model.predict(X_test)\n",
    "        \n",
    "        tmp_score = self._score_metric(predicted, y_test)\n",
    "        \n",
    "        if(tmp_score > self._best_score):\n",
    "            self._best_score = tmp_score\n",
    "            self._current_best_variables = feature_names\n",
    "        \n",
    "        return tmp_score\n",
    "    \n",
    "    def _update_nodes(self, nodes, score):\n",
    "        self._root.add_score(score)\n",
    "        \n",
    "        for node in nodes:\n",
    "            node.add_score(score)\n",
    "    \n",
    "    def _add_child_nodes(self, node, selected_nodes):\n",
    "        nodes_to_add = []\n",
    "        \n",
    "        if(len(selected_nodes) == 0):\n",
    "            node.add_child_nodes(self._data.columns)\n",
    "        else:\n",
    "            for column in self._data:\n",
    "                is_used = False\n",
    "                for n in selected_nodes:\n",
    "                    if(n.node_name == column):\n",
    "                        is_used = True\n",
    "                        break\n",
    "                if(not is_used):\n",
    "                    nodes_to_add.append(column)\n",
    "            print('Adding child nodes: ' + ' '.join(nodes_to_add))\n",
    "            node.add_child_nodes(nodes_to_add)\n",
    "    \n",
    "    def _single_iteration(self):\n",
    "        current_node = self._root\n",
    "        selected_nodes = []\n",
    "        stop_val = False\n",
    "        \n",
    "        while(not stop_val):\n",
    "            best_score = 0\n",
    "            selected_node = None\n",
    "            \n",
    "            if(current_node.T == 0):\n",
    "                print('First if: ' + current_node.node_name)\n",
    "                if(len(current_node.child_nodes) != 0):\n",
    "                    print(\"Inside first if appending first node\")\n",
    "                    selected_nodes.append(current_node.child_nodes[0])\n",
    "                stop_val = True\n",
    "            else:\n",
    "                print('Else')\n",
    "                if(len(current_node.child_nodes) == 0):\n",
    "                    print('Adding child nodes for ' + current_node.node_name)\n",
    "                    self._add_child_nodes(current_node, selected_nodes)\n",
    "                    if(len(current_node.child_nodes) != 0):\n",
    "                        print('Adding first child: ' + current_node.child_nodes[0].node_name)\n",
    "                        selected_nodes.append(current_node.child_nodes[0])\n",
    "                    stop_val = True\n",
    "                else:\n",
    "                    print('Going recursive')\n",
    "                    for node in current_node.child_nodes:\n",
    "                        current_score = self._node_score(node, current_node)\n",
    "                        if(current_score > best_score):\n",
    "                            best_score = current_score\n",
    "                            selected_node = node\n",
    "                    selected_nodes.append(selected_node)\n",
    "                    current_node = selected_node\n",
    "                    print('Selected node: ' + selected_node.node_name)\n",
    "         \n",
    "        feature_names = []\n",
    "        for node in selected_nodes:\n",
    "            feature_names.append(node.node_name)   \n",
    "        score = self._calculate_score(feature_names)    \n",
    "        \n",
    "        if(self._verbosity == 1):\n",
    "            print('Current best score: ' + str(score))\n",
    "        \n",
    "        self._update_nodes(selected_nodes, score)\n",
    "    \n",
    "    def _are_calculations_over(self):\n",
    "        if(self._max_time != None):\n",
    "            return time.time() - self._start >= self._max_time\n",
    "        else:\n",
    "            return self._iterations >= self._max_iter\n",
    "            \n",
    "    def _start_fitting(self):\n",
    "        self._start = time.time()\n",
    "        self._iterations = 0\n",
    "        \n",
    "        self._add_child_nodes(self._root,[])\n",
    "        \n",
    "        while(not self._are_calculations_over()):\n",
    "            print(\"------------------------\")\n",
    "            self._single_iteration()\n",
    "            \n",
    "            self._iterations += 1\n",
    "        \n",
    "    \n",
    "    def fit(self, data, labels):\n",
    "        self._data = data\n",
    "        self._labels = labels\n",
    "        \n",
    "        self._start_fitting()"
   ]
  },
  {
   "cell_type": "code",
   "execution_count": 9,
   "metadata": {},
   "outputs": [
    {
     "ename": "NameError",
     "evalue": "name 'data' is not defined",
     "output_type": "error",
     "traceback": [
      "\u001b[1;31m---------------------------------------------------------------------------\u001b[0m",
      "\u001b[1;31mNameError\u001b[0m                                 Traceback (most recent call last)",
      "\u001b[1;32m<ipython-input-9-2c33a7627b87>\u001b[0m in \u001b[0;36m<module>\u001b[1;34m\u001b[0m\n\u001b[0;32m      1\u001b[0m \u001b[0mtree\u001b[0m \u001b[1;33m=\u001b[0m \u001b[0mMCTS_tree\u001b[0m\u001b[1;33m(\u001b[0m\u001b[0mmax_iter\u001b[0m \u001b[1;33m=\u001b[0m \u001b[1;36m1000\u001b[0m\u001b[1;33m,\u001b[0m \u001b[0mscore_metric\u001b[0m\u001b[1;33m=\u001b[0m\u001b[0macc_score\u001b[0m\u001b[1;33m)\u001b[0m\u001b[1;33m\u001b[0m\u001b[0m\n\u001b[1;32m----> 2\u001b[1;33m \u001b[0mtree\u001b[0m\u001b[1;33m.\u001b[0m\u001b[0mfit\u001b[0m\u001b[1;33m(\u001b[0m\u001b[0mdata\u001b[0m\u001b[1;33m,\u001b[0m \u001b[0mdata_labels\u001b[0m\u001b[1;33m)\u001b[0m\u001b[1;33m\u001b[0m\u001b[0m\n\u001b[0m",
      "\u001b[1;31mNameError\u001b[0m: name 'data' is not defined"
     ]
    }
   ],
   "source": [
    "tree = MCTS_tree(max_iter = 1000, score_metric=acc_score)\n",
    "tree.fit(data, data_labels)"
   ]
  },
  {
   "cell_type": "code",
   "execution_count": 88,
   "metadata": {},
   "outputs": [
    {
     "name": "stdout",
     "output_type": "stream",
     "text": [
      "['attr4', 'attr2', 'attr6', 'attr3', 'attr1']\n",
      "0.8079470198675497\n"
     ]
    }
   ],
   "source": [
    "print(tree._current_best_variables)\n",
    "print(tree._best_score)"
   ]
  },
  {
   "cell_type": "code",
   "execution_count": null,
   "metadata": {},
   "outputs": [],
   "source": []
  }
 ],
 "metadata": {
  "kernelspec": {
   "display_name": "Python 3",
   "language": "python",
   "name": "python3"
  },
  "language_info": {
   "codemirror_mode": {
    "name": "ipython",
    "version": 3
   },
   "file_extension": ".py",
   "mimetype": "text/x-python",
   "name": "python",
   "nbconvert_exporter": "python",
   "pygments_lexer": "ipython3",
   "version": "3.6.6"
  }
 },
 "nbformat": 4,
 "nbformat_minor": 2
}
